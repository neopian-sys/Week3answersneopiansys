{
  "cells": [
    {
      "cell_type": "markdown",
      "metadata": {
        "id": "view-in-github",
        "colab_type": "text"
      },
      "source": [
        "<a href=\"https://colab.research.google.com/github/neopian-sys/Week3answersneopiansys/blob/main/w05_lstm.ipynb\" target=\"_parent\"><img src=\"https://colab.research.google.com/assets/colab-badge.svg\" alt=\"Open In Colab\"/></a>"
      ]
    },
    {
      "cell_type": "markdown",
      "metadata": {
        "id": "9Lz4L_2lrM9K"
      },
      "source": [
        "# Week 5 LSTM\n",
        "\n",
        "Title: Character-level recurrent sequence-to-sequence model<br/>\n",
        "Author: [fchollet](https://twitter.com/fchollet)<br/>\n",
        "Date created: 2017/09/29<br/>\n",
        "Last modified: 2023/11/22<br/>\n",
        "Description: Character-level recurrent sequence-to-sequence model.<br/>\n",
        "Accelerator: GPU<br/>\n",
        "\n",
        "References:\n",
        "* https://blog.keras.io/a-ten-minute-introduction-to-sequence-to-sequence-learning-in-keras.html\n",
        "* https://github.com/keras-team/keras-io/blob/master/examples/nlp/lstm_seq2seq.py\n"
      ]
    },
    {
      "cell_type": "markdown",
      "metadata": {
        "id": "KZ4AxkYBrM9M"
      },
      "source": [
        "## Introduction\n",
        "\n",
        "This example demonstrates how to implement a basic character-level\n",
        "recurrent sequence-to-sequence model. We apply it to translating\n",
        "short English sentences into short French sentences,\n",
        "character-by-character. Note that it is fairly unusual to\n",
        "do character-level machine translation, as word-level\n",
        "models are more common in this domain.\n",
        "\n",
        "**Summary of the algorithm**\n",
        "\n",
        "- We start with input sequences from a domain (e.g. English sentences)\n",
        "    and corresponding target sequences from another domain\n",
        "    (e.g. French sentences).\n",
        "- An encoder LSTM turns input sequences to 2 state vectors\n",
        "    (we keep the last LSTM state and discard the outputs).\n",
        "- A decoder LSTM is trained to turn the target sequences into\n",
        "    the same sequence but offset by one timestep in the future,\n",
        "    a training process called \"teacher forcing\" in this context.\n",
        "    It uses as initial state the state vectors from the encoder.\n",
        "    Effectively, the decoder learns to generate `targets[t+1...]`\n",
        "    given `targets[...t]`, conditioned on the input sequence.\n",
        "- In inference mode, when we want to decode unknown input sequences, we:\n",
        "    - Encode the input sequence into state vectors\n",
        "    - Start with a target sequence of size 1\n",
        "        (just the start-of-sequence character)\n",
        "    - Feed the state vectors and 1-char target sequence\n",
        "        to the decoder to produce predictions for the next character\n",
        "    - Sample the next character using these predictions\n",
        "        (we simply use argmax).\n",
        "    - Append the sampled character to the target sequence\n",
        "    - Repeat until we generate the end-of-sequence character or we\n",
        "        hit the character limit.\n",
        "\n",
        "![](seq2seq-inference.png \"seq2seq\")"
      ]
    },
    {
      "cell_type": "code",
      "execution_count": 1,
      "metadata": {
        "id": "Wj-9WSjzrM9N"
      },
      "outputs": [],
      "source": [
        "# Setup\n",
        "import numpy as np\n",
        "import keras\n",
        "from pathlib import Path\n",
        "import re\n",
        "import random\n",
        "import tensorflow as tf"
      ]
    },
    {
      "cell_type": "markdown",
      "metadata": {
        "id": "Ux5KhGoLrM9O"
      },
      "source": [
        "# Get the data\n",
        "\n",
        "Feel free to use a different language from https://www.manythings.org/anki/"
      ]
    },
    {
      "cell_type": "code",
      "source": [
        "!wget https://www.manythings.org/anki/fra-eng.zip"
      ],
      "metadata": {
        "colab": {
          "base_uri": "https://localhost:8080/"
        },
        "id": "_XzdKC57txDW",
        "outputId": "4d3c0e50-59b9-454a-9450-4fa1a599006a"
      },
      "execution_count": 2,
      "outputs": [
        {
          "output_type": "stream",
          "name": "stdout",
          "text": [
            "--2025-02-19 14:57:52--  https://www.manythings.org/anki/fra-eng.zip\n",
            "Resolving www.manythings.org (www.manythings.org)... 173.254.30.110\n",
            "Connecting to www.manythings.org (www.manythings.org)|173.254.30.110|:443... connected.\n",
            "HTTP request sent, awaiting response... 200 OK\n",
            "Length: 7943074 (7.6M) [application/zip]\n",
            "Saving to: ‘fra-eng.zip’\n",
            "\n",
            "fra-eng.zip         100%[===================>]   7.57M  6.43MB/s    in 1.2s    \n",
            "\n",
            "2025-02-19 14:57:54 (6.43 MB/s) - ‘fra-eng.zip’ saved [7943074/7943074]\n",
            "\n"
          ]
        }
      ]
    },
    {
      "cell_type": "code",
      "source": [
        "!unzip fra-eng.zip"
      ],
      "metadata": {
        "colab": {
          "base_uri": "https://localhost:8080/"
        },
        "id": "ExHkpdjNtzTp",
        "outputId": "15f81568-dc10-4cb8-9cdb-0287aa77a9e0"
      },
      "execution_count": 3,
      "outputs": [
        {
          "output_type": "stream",
          "name": "stdout",
          "text": [
            "Archive:  fra-eng.zip\n",
            "  inflating: _about.txt              \n",
            "  inflating: fra.txt                 \n"
          ]
        }
      ]
    },
    {
      "cell_type": "code",
      "source": [
        "!ls"
      ],
      "metadata": {
        "colab": {
          "base_uri": "https://localhost:8080/"
        },
        "id": "_8vmiOEgt78U",
        "outputId": "fc12a633-3323-4e26-bd16-9bf52b9cab42"
      },
      "execution_count": 4,
      "outputs": [
        {
          "output_type": "stream",
          "name": "stdout",
          "text": [
            "_about.txt  fra-eng.zip  fra.txt  sample_data\n"
          ]
        }
      ]
    },
    {
      "cell_type": "markdown",
      "metadata": {
        "id": "QX7FdO2FrM9P"
      },
      "source": [
        "## Prepare the data\n"
      ]
    },
    {
      "cell_type": "code",
      "execution_count": 5,
      "metadata": {
        "id": "EwoqpqNCrM9O"
      },
      "outputs": [],
      "source": [
        "# Get the data\n",
        "# Sourced from https://www.manythings.org/anki/\n",
        "fpath = \"./fra.txt\"\n",
        "data_path = Path(fpath).absolute()\n",
        "\n",
        "# Set some key parameters\n",
        "batch_size = 64  # Batch size for training.\n",
        "\n",
        "#TODO: Start with a small number of epochs (maybe 5) if running locally on CPU\n",
        "epochs = 5  # Number of epochs to train for.\n",
        "\n",
        "latent_dim = 512  # Latent dimensionality of the encoding space.\n",
        "num_samples = 10000  # Number of samples to train on.\n",
        "\n",
        "# Bonus: What happens with longer texts? Why?\n",
        "MAX_INPUT_LENGTH=15\n"
      ]
    },
    {
      "cell_type": "code",
      "execution_count": 6,
      "metadata": {
        "colab": {
          "base_uri": "https://localhost:8080/"
        },
        "id": "TcPc8wF8rM9P",
        "outputId": "209e56f0-d88f-4822-cb26-db91483c1be9"
      },
      "outputs": [
        {
          "output_type": "stream",
          "name": "stdout",
          "text": [
            "Number of samples: 8017\n",
            "Number of unique input tokens: 72\n",
            "Number of unique output tokens: 94\n",
            "Max sequence length for inputs: 15\n",
            "Max sequence length for outputs: 59\n"
          ]
        }
      ],
      "source": [
        "# Vectorize the data.\n",
        "input_texts = []\n",
        "target_texts = []\n",
        "input_characters = set() # Unique characters in input_texts\n",
        "target_characters = set() # Unique characters in target_texts\n",
        "\n",
        "RE_W = re.compile('[\\W_]+', re.UNICODE)\n",
        "\n",
        "# We use \"tab\" (\\t) as the \"start sequence\" character\n",
        "# for the targets, and newline (\"\\n\") as \"end sequence\" character.\n",
        "\n",
        "START_SEQ = \"\\t\"\n",
        "END_SEQ = \"\\n\"\n",
        "\n",
        "with open(data_path, \"r\", encoding=\"utf-8\") as f:\n",
        "    lines = f.read().split(\"\\n\")\n",
        "\n",
        "random.seed(42)\n",
        "random.shuffle(lines) # Put the lines in a different order\n",
        "\n",
        "seen_inputs = set()\n",
        "for line in lines:\n",
        "    try:\n",
        "        input_text, target_text, _ = line.split(\"\\t\")\n",
        "    except:\n",
        "        continue\n",
        "\n",
        "    # Skip longer texts -- can you guess why?\n",
        "    if len(input_text) > MAX_INPUT_LENGTH:\n",
        "        continue\n",
        "\n",
        "    # # Alternative, truncate long texts\n",
        "    # if len(input_text) > MAX_INPUT_LENGTH:\n",
        "    # input_text = input_text[:MAX_INPUT_LENGTH]\n",
        "    # if len(target_text) > MAX_INPUT_LENGTH:\n",
        "    #    target_text = target_text[:MAX_INPUT_LENGTH]\n",
        "\n",
        "\n",
        "    # There appear to be a lot of duplicates in the data.\n",
        "    # We'll ignore direct duplicates\n",
        "    unq = RE_W.sub('', input_text)\n",
        "    if unq in seen_inputs:\n",
        "        continue\n",
        "    seen_inputs.add(unq)\n",
        "\n",
        "    # TODO: Prepend the START_SEQ and append the END_SEQ to the target_text\n",
        "    # Prepend START_SEQ and append END_SEQ to the target text\n",
        "    target_text = START_SEQ + target_text + END_SEQ\n",
        "\n",
        "    input_texts.append(input_text)\n",
        "    target_texts.append(target_text)\n",
        "\n",
        "    #TODO: Update input_characters and target_characters with any new characters\n",
        "    # Add new characters to input and target character sets\n",
        "    input_characters.update(set(input_text))   # Add all unique input text characters\n",
        "    target_characters.update(set(target_text)) # Add all unique target text characters\n",
        "\n",
        "    # Finish if we have enough samples\n",
        "    if len(input_texts) >= num_samples:\n",
        "        break\n",
        "\n",
        "input_characters = sorted(list(input_characters))\n",
        "target_characters = sorted(list(target_characters))\n",
        "num_encoder_tokens = len(input_characters)\n",
        "num_decoder_tokens = len(target_characters)\n",
        "max_encoder_seq_length = max([len(txt) for txt in input_texts])\n",
        "max_decoder_seq_length = max([len(txt) for txt in target_texts])\n",
        "\n",
        "print(\"Number of samples:\", len(input_texts))\n",
        "print(\"Number of unique input tokens:\", num_encoder_tokens)\n",
        "print(\"Number of unique output tokens:\", num_decoder_tokens)\n",
        "print(\"Max sequence length for inputs:\", max_encoder_seq_length)\n",
        "print(\"Max sequence length for outputs:\", max_decoder_seq_length)\n",
        "\n",
        "# TODO: Make input_token_index and target_token_index dictionaries that map from characters to their indices\n",
        "# Create dictionaries mapping characters to unique indices\n",
        "input_token_index = {char: i for i, char in enumerate(input_characters)}\n",
        "target_token_index = {char: i for i, char in enumerate(target_characters)}"
      ]
    },
    {
      "cell_type": "code",
      "execution_count": 7,
      "metadata": {
        "colab": {
          "base_uri": "https://localhost:8080/"
        },
        "id": "bu_lCew4rM9Q",
        "outputId": "5780d286-700f-4dc6-f409-c859588eeb0d"
      },
      "outputs": [
        {
          "output_type": "execute_result",
          "data": {
            "text/plain": [
              "[('Those are good.', '\\tCeux-ci sont bons.\\n'),\n",
              " ('I feel fine.', '\\tJe me sens bien.\\n'),\n",
              " (\"I'm unemployed.\", '\\tJe suis au chômage.\\n'),\n",
              " ('Hurry up.', '\\tMagnez-vous !\\n'),\n",
              " ('Give it a try.', '\\tEssaie.\\n'),\n",
              " ('Do it again!', '\\tFaites-le de nouveau\\u202f!\\n'),\n",
              " ('He stood up.', '\\tIl se mit debout.\\n'),\n",
              " ('Tom was silent.', '\\tTom gardait le silence.\\n'),\n",
              " (\"I'm finished.\", \"\\tJ'ai terminé.\\n\"),\n",
              " ('Look at it.', '\\tRegarde-le !\\n')]"
            ]
          },
          "metadata": {},
          "execution_count": 7
        }
      ],
      "source": [
        "list(zip(input_texts, target_texts))[:10]"
      ]
    },
    {
      "cell_type": "code",
      "execution_count": 9,
      "metadata": {
        "id": "AzKfavh8rM9Q"
      },
      "outputs": [],
      "source": [
        "encoder_input_data = np.zeros(\n",
        "    (len(input_texts), max_encoder_seq_length, num_encoder_tokens),\n",
        "    dtype=\"float32\",\n",
        ")\n",
        "decoder_input_data = np.zeros(\n",
        "    (len(input_texts), max_decoder_seq_length, num_decoder_tokens),\n",
        "    dtype=\"float32\",\n",
        ")\n",
        "decoder_target_data = np.zeros(\n",
        "    (len(input_texts), max_decoder_seq_length, num_decoder_tokens),\n",
        "    dtype=\"float32\",\n",
        ")\n",
        "\n",
        "for i, (input_text, target_text) in enumerate(zip(input_texts, target_texts)):\n",
        "    for t, char in enumerate(input_text):\n",
        "        encoder_input_data[i, t, input_token_index[char]] = 1.0\n",
        "    encoder_input_data[i, t + 1 :, input_token_index[\" \"]] = 1.0\n",
        "    for t, char in enumerate(target_text):\n",
        "        # decoder_target_data is ahead of decoder_input_data by one timestep\n",
        "        decoder_input_data[i, t, target_token_index[char]] = 1.0\n",
        "        if t > 0:\n",
        "            # decoder_target_data will be ahead by one timestep\n",
        "            # and will not include the start character.\n",
        "            decoder_target_data[i, t - 1, target_token_index[char]] = 1.0\n",
        "    decoder_input_data[i, t + 1 :, target_token_index[\" \"]] = 1.0\n",
        "    decoder_target_data[i, t:, target_token_index[\" \"]] = 1.0\n"
      ]
    },
    {
      "cell_type": "code",
      "execution_count": 10,
      "metadata": {
        "id": "vLGu8tR4rM9R"
      },
      "outputs": [],
      "source": [
        "def get_nonzero_entries(matrix):\n",
        "    return list(zip(*np.nonzero(matrix)))"
      ]
    },
    {
      "cell_type": "code",
      "execution_count": 11,
      "metadata": {
        "colab": {
          "base_uri": "https://localhost:8080/"
        },
        "id": "WKvMB1_mrM9R",
        "outputId": "dbb456bb-1662-4596-89c9-6dd654162daf"
      },
      "outputs": [
        {
          "output_type": "stream",
          "name": "stdout",
          "text": [
            "Example input sentence:\n",
            "Those are good.\n",
            "This is encoded as one-hot encodings; so, there are lots of zeros!\n",
            "[[0. 0. 0. ... 0. 0. 0.]\n",
            " [0. 0. 0. ... 0. 0. 0.]\n",
            " [0. 0. 0. ... 0. 0. 0.]\n",
            " ...\n",
            " [0. 0. 0. ... 0. 0. 0.]\n",
            " [0. 0. 0. ... 0. 0. 0.]\n",
            " [0. 0. 0. ... 0. 0. 0.]]\n",
            "Here we print the coordinates of the non-zero values.\n",
            "There the first number is the position in the sentence\n",
            "The second is the mapping of a character to a number\n",
            "[(0, 40), (1, 52), (2, 59), (3, 63), (4, 49), (5, 0), (6, 45), (7, 62), (8, 49), (9, 0), (10, 51), (11, 59), (12, 59), (13, 48), (14, 9)]\n",
            "we see, for example, that u is encoded as a 1 in the 63rd position.\n",
            "65\n",
            "this occurs in for the 5th character; so, we have (4, 61) in the output above\n"
          ]
        }
      ],
      "source": [
        "print(\"Example input sentence:\")\n",
        "print(input_texts[0])\n",
        "\n",
        "print(\"This is encoded as one-hot encodings; so, there are lots of zeros!\")\n",
        "print(encoder_input_data[0])\n",
        "\n",
        "print(\"Here we print the coordinates of the non-zero values.\")\n",
        "print(\"There the first number is the position in the sentence\")\n",
        "print(\"The second is the mapping of a character to a number\")\n",
        "print(get_nonzero_entries(encoder_input_data[0]))\n",
        "\n",
        "print(\"we see, for example, that u is encoded as a 1 in the 63rd position.\")\n",
        "print(input_token_index[\"u\"])\n",
        "print(\"this occurs in for the 5th character; so, we have (4, 61) in the output above\")"
      ]
    },
    {
      "cell_type": "code",
      "execution_count": null,
      "metadata": {
        "id": "FZBnQaNDrM9R"
      },
      "outputs": [],
      "source": [
        "#TODO: Repeat the analysis above with `target_texts[0]` and\n",
        "# analyse decoder_input_data[0] and decoder_output_data[0]\n",
        "# Remember that each target text starts with a tab (\\t) and ends with a newline (\\n)\n",
        "\n",
        "# Print the pairs of non-zero data for decoder_input_data[0] and decoder_target_data[0]\n",
        "# on lines next to each other and understand the relationship between them.\n"
      ]
    },
    {
      "cell_type": "code",
      "source": [
        "print(\"Example target sentence:\")\n",
        "print(target_texts[0])  # The first French sentence in the dataset"
      ],
      "metadata": {
        "colab": {
          "base_uri": "https://localhost:8080/"
        },
        "id": "inAI-CKpxaiZ",
        "outputId": "bc8582a2-794e-40f7-8b55-5842ecdafb76"
      },
      "execution_count": 12,
      "outputs": [
        {
          "output_type": "stream",
          "name": "stdout",
          "text": [
            "Example target sentence:\n",
            "\tCeux-ci sont bons.\n",
            "\n"
          ]
        }
      ]
    },
    {
      "cell_type": "code",
      "source": [
        "print(\"\\nOne-hot encoding for `decoder_input_data[0]` (target input):\")\n",
        "print(get_nonzero_entries(decoder_input_data[0]))"
      ],
      "metadata": {
        "colab": {
          "base_uri": "https://localhost:8080/"
        },
        "id": "A67vThBaxhnQ",
        "outputId": "896b25aa-e4b8-45a0-ebb9-1a3e34a8b1f7"
      },
      "execution_count": 13,
      "outputs": [
        {
          "output_type": "stream",
          "name": "stdout",
          "text": [
            "\n",
            "One-hot encoding for `decoder_input_data[0]` (target input):\n",
            "[(0, 0), (1, 22), (2, 48), (3, 64), (4, 67), (5, 9), (6, 46), (7, 52), (8, 2), (9, 62), (10, 58), (11, 57), (12, 63), (13, 2), (14, 45), (15, 58), (16, 57), (17, 62), (18, 10), (19, 1), (20, 2), (21, 2), (22, 2), (23, 2), (24, 2), (25, 2), (26, 2), (27, 2), (28, 2), (29, 2), (30, 2), (31, 2), (32, 2), (33, 2), (34, 2), (35, 2), (36, 2), (37, 2), (38, 2), (39, 2), (40, 2), (41, 2), (42, 2), (43, 2), (44, 2), (45, 2), (46, 2), (47, 2), (48, 2), (49, 2), (50, 2), (51, 2), (52, 2), (53, 2), (54, 2), (55, 2), (56, 2), (57, 2), (58, 2)]\n"
          ]
        }
      ]
    },
    {
      "cell_type": "code",
      "source": [
        "print(\"\\nOne-hot encoding for `decoder_target_data[0]` (target output):\")\n",
        "print(get_nonzero_entries(decoder_target_data[0]))"
      ],
      "metadata": {
        "colab": {
          "base_uri": "https://localhost:8080/"
        },
        "id": "3drEZurFxw_H",
        "outputId": "b12bf4bf-8f6a-463b-ee62-2af89cc4e150"
      },
      "execution_count": 14,
      "outputs": [
        {
          "output_type": "stream",
          "name": "stdout",
          "text": [
            "\n",
            "One-hot encoding for `decoder_target_data[0]` (target output):\n",
            "[(0, 22), (1, 48), (2, 64), (3, 67), (4, 9), (5, 46), (6, 52), (7, 2), (8, 62), (9, 58), (10, 57), (11, 63), (12, 2), (13, 45), (14, 58), (15, 57), (16, 62), (17, 10), (18, 1), (19, 2), (20, 2), (21, 2), (22, 2), (23, 2), (24, 2), (25, 2), (26, 2), (27, 2), (28, 2), (29, 2), (30, 2), (31, 2), (32, 2), (33, 2), (34, 2), (35, 2), (36, 2), (37, 2), (38, 2), (39, 2), (40, 2), (41, 2), (42, 2), (43, 2), (44, 2), (45, 2), (46, 2), (47, 2), (48, 2), (49, 2), (50, 2), (51, 2), (52, 2), (53, 2), (54, 2), (55, 2), (56, 2), (57, 2), (58, 2)]\n"
          ]
        }
      ]
    },
    {
      "cell_type": "code",
      "source": [
        "print(\"\\nComparing `decoder_input_data[0]` and `decoder_target_data[0]`:\\n\")\n",
        "input_nonzero = get_nonzero_entries(decoder_input_data[0])\n",
        "target_nonzero = get_nonzero_entries(decoder_target_data[0])\n",
        "\n",
        "# Print input-output pairs\n",
        "for inp, tgt in zip(input_nonzero, target_nonzero):\n",
        "    print(f\"Input: {inp} -> Target: {tgt}\")"
      ],
      "metadata": {
        "colab": {
          "base_uri": "https://localhost:8080/"
        },
        "id": "sSvB47Gyx1bD",
        "outputId": "c04edc2d-c1d6-4478-aa0a-256b3ef5751c"
      },
      "execution_count": 15,
      "outputs": [
        {
          "output_type": "stream",
          "name": "stdout",
          "text": [
            "\n",
            "Comparing `decoder_input_data[0]` and `decoder_target_data[0]`:\n",
            "\n",
            "Input: (0, 0) -> Target: (0, 22)\n",
            "Input: (1, 22) -> Target: (1, 48)\n",
            "Input: (2, 48) -> Target: (2, 64)\n",
            "Input: (3, 64) -> Target: (3, 67)\n",
            "Input: (4, 67) -> Target: (4, 9)\n",
            "Input: (5, 9) -> Target: (5, 46)\n",
            "Input: (6, 46) -> Target: (6, 52)\n",
            "Input: (7, 52) -> Target: (7, 2)\n",
            "Input: (8, 2) -> Target: (8, 62)\n",
            "Input: (9, 62) -> Target: (9, 58)\n",
            "Input: (10, 58) -> Target: (10, 57)\n",
            "Input: (11, 57) -> Target: (11, 63)\n",
            "Input: (12, 63) -> Target: (12, 2)\n",
            "Input: (13, 2) -> Target: (13, 45)\n",
            "Input: (14, 45) -> Target: (14, 58)\n",
            "Input: (15, 58) -> Target: (15, 57)\n",
            "Input: (16, 57) -> Target: (16, 62)\n",
            "Input: (17, 62) -> Target: (17, 10)\n",
            "Input: (18, 10) -> Target: (18, 1)\n",
            "Input: (19, 1) -> Target: (19, 2)\n",
            "Input: (20, 2) -> Target: (20, 2)\n",
            "Input: (21, 2) -> Target: (21, 2)\n",
            "Input: (22, 2) -> Target: (22, 2)\n",
            "Input: (23, 2) -> Target: (23, 2)\n",
            "Input: (24, 2) -> Target: (24, 2)\n",
            "Input: (25, 2) -> Target: (25, 2)\n",
            "Input: (26, 2) -> Target: (26, 2)\n",
            "Input: (27, 2) -> Target: (27, 2)\n",
            "Input: (28, 2) -> Target: (28, 2)\n",
            "Input: (29, 2) -> Target: (29, 2)\n",
            "Input: (30, 2) -> Target: (30, 2)\n",
            "Input: (31, 2) -> Target: (31, 2)\n",
            "Input: (32, 2) -> Target: (32, 2)\n",
            "Input: (33, 2) -> Target: (33, 2)\n",
            "Input: (34, 2) -> Target: (34, 2)\n",
            "Input: (35, 2) -> Target: (35, 2)\n",
            "Input: (36, 2) -> Target: (36, 2)\n",
            "Input: (37, 2) -> Target: (37, 2)\n",
            "Input: (38, 2) -> Target: (38, 2)\n",
            "Input: (39, 2) -> Target: (39, 2)\n",
            "Input: (40, 2) -> Target: (40, 2)\n",
            "Input: (41, 2) -> Target: (41, 2)\n",
            "Input: (42, 2) -> Target: (42, 2)\n",
            "Input: (43, 2) -> Target: (43, 2)\n",
            "Input: (44, 2) -> Target: (44, 2)\n",
            "Input: (45, 2) -> Target: (45, 2)\n",
            "Input: (46, 2) -> Target: (46, 2)\n",
            "Input: (47, 2) -> Target: (47, 2)\n",
            "Input: (48, 2) -> Target: (48, 2)\n",
            "Input: (49, 2) -> Target: (49, 2)\n",
            "Input: (50, 2) -> Target: (50, 2)\n",
            "Input: (51, 2) -> Target: (51, 2)\n",
            "Input: (52, 2) -> Target: (52, 2)\n",
            "Input: (53, 2) -> Target: (53, 2)\n",
            "Input: (54, 2) -> Target: (54, 2)\n",
            "Input: (55, 2) -> Target: (55, 2)\n",
            "Input: (56, 2) -> Target: (56, 2)\n",
            "Input: (57, 2) -> Target: (57, 2)\n",
            "Input: (58, 2) -> Target: (58, 2)\n"
          ]
        }
      ]
    },
    {
      "cell_type": "markdown",
      "metadata": {
        "id": "4qepW01DrM9S"
      },
      "source": [
        "## Build the model\n"
      ]
    },
    {
      "cell_type": "code",
      "execution_count": 17,
      "metadata": {
        "id": "4-_DRr6MrM9S"
      },
      "outputs": [],
      "source": [
        "import tensorflow as tf\n",
        "from tensorflow import keras\n",
        "from tensorflow.keras.layers import Input, LSTM, Dense\n",
        "\n",
        "# Define input layer for the encoder (one-hot character vectors)\n",
        "encoder_inputs = Input(shape=(None, num_encoder_tokens))  # None allows variable sequence length\n",
        "\n",
        "# Define LSTM encoder\n",
        "encoder = LSTM(latent_dim, return_state=True)  # We only return the states\n",
        "encoder_outputs, state_h, state_c = encoder(encoder_inputs)\n",
        "\n",
        "# We discard `encoder_outputs` and only keep the hidden and cell states\n",
        "encoder_states = [state_h, state_c]  # Context vector\n",
        "\n",
        "# Define input layer for the decoder\n",
        "decoder_inputs = Input(shape=(None, num_decoder_tokens))  # One-hot character vectors for target text\n",
        "\n",
        "# Define LSTM decoder\n",
        "decoder_lstm = LSTM(latent_dim, return_sequences=True, return_state=True)\n",
        "decoder_outputs, _, _ = decoder_lstm(decoder_inputs, initial_state=encoder_states)\n",
        "\n",
        "# Define Dense layer with softmax activation\n",
        "decoder_dense = Dense(num_decoder_tokens, activation=\"softmax\")  # Predict next character\n",
        "decoder_outputs = decoder_dense(decoder_outputs)\n",
        "\n",
        "# Define the full training model\n",
        "model = keras.Model([encoder_inputs, decoder_inputs], decoder_outputs)"
      ]
    },
    {
      "cell_type": "markdown",
      "metadata": {
        "id": "OrFU7_RLrM9S"
      },
      "source": [
        "## Train the model\n"
      ]
    },
    {
      "cell_type": "code",
      "execution_count": 21,
      "metadata": {
        "colab": {
          "base_uri": "https://localhost:8080/"
        },
        "id": "RFemUREvrM9S",
        "outputId": "239b2d0a-a9da-401a-befa-802f2c9f48b6"
      },
      "outputs": [
        {
          "output_type": "stream",
          "name": "stdout",
          "text": [
            "t1= tf.Tensor(1.0, shape=(), dtype=float32)\n",
            "t2= tf.Tensor(0.6666667, shape=(), dtype=float32)\n",
            "y_pred_test_pad:\n",
            " [[[1 0 0]\n",
            "  [0 1 0]\n",
            "  [0 0 1]\n",
            "  [0 0 0]\n",
            "  [0 0 0]\n",
            "  [0 0 0]\n",
            "  [0 0 0]]]\n",
            "t3= tf.Tensor(0.6666667, shape=(), dtype=float32)\n"
          ]
        }
      ],
      "source": [
        "from keras.utils import register_keras_serializable\n",
        "\n",
        "@register_keras_serializable(package=\"oii-sds-nlp\")\n",
        "\n",
        "def masked_accuracy(y_true, y_pred):\n",
        "    # Convert y_true to float32 for safe division operations\n",
        "    y_true = tf.cast(y_true, tf.float32)\n",
        "\n",
        "    # ✅ Get the true class labels (argmax over last axis)\n",
        "    y_true_class = tf.math.argmax(y_true, axis=-1)\n",
        "    y_true_class = tf.cast(y_true_class, tf.float32)  # Ensure same type\n",
        "\n",
        "    # ✅ Get the predicted class labels\n",
        "    y_pred_class = tf.math.argmax(y_pred, axis=-1)\n",
        "    y_pred_class = tf.cast(y_pred_class, tf.float32)  # Ensure same type\n",
        "\n",
        "    # ✅ Create a mask (1 where at least one non-zero value exists)\n",
        "    mask = tf.reduce_max(y_true, axis=-1)  # Find the max nonzero value per row\n",
        "    mask = tf.cast(mask, tf.float32)  # Convert mask to float\n",
        "\n",
        "    # ✅ Compare predictions with true labels\n",
        "    matches_true_pred = tf.equal(y_true_class, y_pred_class)\n",
        "    matches_true_pred = tf.cast(matches_true_pred, tf.float32)  # Convert to float\n",
        "\n",
        "    # ✅ Apply the mask\n",
        "    matches_true_pred *= mask\n",
        "\n",
        "    # ✅ Compute masked accuracy: correct predictions / valid tokens\n",
        "    masked_acc = tf.reduce_sum(matches_true_pred) / tf.reduce_sum(mask)\n",
        "\n",
        "    return masked_acc\n",
        "\n",
        "\n",
        "# Let's tests our function\n",
        "y_true_test=np.array([[[1,0,0],[0,1,0],[1,0,0]]])\n",
        "y_pred_test=np.array([[[1,0,0],[0,1,0],[0,0,1]]])\n",
        "\n",
        "# Should have 100% if input and output match\n",
        "t1 = masked_accuracy(y_true_test, y_true_test)\n",
        "print(\"t1=\", t1)\n",
        "assert t1==1, \"Error when input and output match\"\n",
        "\n",
        "# Should be 2/3 if input and output have one mismatch and no padding\n",
        "t2 = masked_accuracy(y_true_test, y_pred_test)\n",
        "print(\"t2=\", t2)\n",
        "assert t2==(2/3), \"Error when input and output off-by-one, no padding\"\n",
        "\n",
        "# Add padding to y_true_test and y_pred_test\n",
        "y_true_test_pad=np.array([[[1,0,0],[0,1,0],[1,0,0], [0,0,0],[0,0,0],[0,0,0],[0,0,0]]])\n",
        "y_pred_test_pad=np.array([[[1,0,0],[0,1,0],[0,0,1], [0,0,0],[0,0,0],[0,0,0],[0,0,0]]])\n",
        "print(\"y_pred_test_pad:\\n\",y_pred_test_pad)\n",
        "\n",
        "# Should be 2/3 if input and output have one mismatch even with padding\n",
        "t3 = masked_accuracy(y_true_test_pad, y_pred_test_pad)\n",
        "print(\"t3=\", t3)\n",
        "assert t3==(2/3), \"Error when input and output off-by-one, with padding\"\n"
      ]
    },
    {
      "cell_type": "code",
      "execution_count": 22,
      "metadata": {
        "colab": {
          "base_uri": "https://localhost:8080/"
        },
        "id": "4S5ShjlxrM9T",
        "outputId": "fee9b4a0-1e0f-4a4b-9356-8255ca5f9153"
      },
      "outputs": [
        {
          "output_type": "stream",
          "name": "stdout",
          "text": [
            "Epoch 1/5\n",
            "\u001b[1m101/101\u001b[0m \u001b[32m━━━━━━━━━━━━━━━━━━━━\u001b[0m\u001b[37m\u001b[0m \u001b[1m140s\u001b[0m 1s/step - loss: 1.6931 - masked_accuracy: 0.6802 - val_loss: 1.1391 - val_masked_accuracy: 0.7243\n",
            "Epoch 2/5\n",
            "\u001b[1m101/101\u001b[0m \u001b[32m━━━━━━━━━━━━━━━━━━━━\u001b[0m\u001b[37m\u001b[0m \u001b[1m140s\u001b[0m 1s/step - loss: 1.0626 - masked_accuracy: 0.7272 - val_loss: 1.0535 - val_masked_accuracy: 0.7271\n",
            "Epoch 3/5\n",
            "\u001b[1m101/101\u001b[0m \u001b[32m━━━━━━━━━━━━━━━━━━━━\u001b[0m\u001b[37m\u001b[0m \u001b[1m142s\u001b[0m 1s/step - loss: 0.9857 - masked_accuracy: 0.7340 - val_loss: 0.9226 - val_masked_accuracy: 0.7446\n",
            "Epoch 4/5\n",
            "\u001b[1m101/101\u001b[0m \u001b[32m━━━━━━━━━━━━━━━━━━━━\u001b[0m\u001b[37m\u001b[0m \u001b[1m142s\u001b[0m 1s/step - loss: 0.9200 - masked_accuracy: 0.7469 - val_loss: 0.8514 - val_masked_accuracy: 0.7533\n",
            "Epoch 5/5\n",
            "\u001b[1m101/101\u001b[0m \u001b[32m━━━━━━━━━━━━━━━━━━━━\u001b[0m\u001b[37m\u001b[0m \u001b[1m134s\u001b[0m 1s/step - loss: 0.8274 - masked_accuracy: 0.7660 - val_loss: 0.7696 - val_masked_accuracy: 0.7785\n"
          ]
        }
      ],
      "source": [
        "# model.compile(optimizer=\"rmsprop\", loss=\"categorical_crossentropy\", metrics=[\"accuracy\"])\n",
        "model.compile(optimizer=\"rmsprop\", loss=\"categorical_crossentropy\", metrics=[masked_accuracy])\n",
        "\n",
        "model.fit(\n",
        "    [encoder_input_data, decoder_input_data],\n",
        "    decoder_target_data,\n",
        "    batch_size=batch_size,\n",
        "    epochs=epochs,\n",
        "    validation_split=0.2,\n",
        "    # shuffle = True,\n",
        ")\n",
        "# Save model\n",
        "model.save(\"s2s_model.keras\")"
      ]
    },
    {
      "cell_type": "markdown",
      "metadata": {
        "id": "JEqtCmk_rM9T"
      },
      "source": [
        "## Run inference (sampling)\n",
        "\n",
        "1. encode input and retrieve initial decoder state\n",
        "2. run one step of decoder with this initial state\n",
        "and a \"start of sequence\" token as target.\n",
        "Output will be the next target token.\n",
        "3. Repeat with the current target token and current states"
      ]
    },
    {
      "cell_type": "code",
      "execution_count": 23,
      "metadata": {
        "id": "kziBwekjrM9T"
      },
      "outputs": [],
      "source": [
        "# Define sampling models\n",
        "# Restore the model and construct the encoder and decoder.\n",
        "model = keras.models.load_model(\"s2s_model.keras\")\n",
        "\n",
        "encoder_inputs = model.input[0]  # input_1\n",
        "encoder_outputs, state_h_enc, state_c_enc = model.layers[2].output  # lstm_1\n",
        "encoder_states = [state_h_enc, state_c_enc]\n",
        "encoder_model = keras.Model(encoder_inputs, encoder_states)\n",
        "\n",
        "decoder_inputs = model.input[1]  # input_2\n",
        "decoder_state_input_h = keras.Input(shape=(latent_dim,))\n",
        "decoder_state_input_c = keras.Input(shape=(latent_dim,))\n",
        "decoder_states_inputs = [decoder_state_input_h, decoder_state_input_c]\n",
        "decoder_lstm = model.layers[3]\n",
        "decoder_outputs, state_h_dec, state_c_dec = decoder_lstm(\n",
        "    decoder_inputs, initial_state=decoder_states_inputs\n",
        ")\n",
        "decoder_states = [state_h_dec, state_c_dec]\n",
        "decoder_dense = model.layers[4]\n",
        "decoder_outputs = decoder_dense(decoder_outputs)\n",
        "decoder_model = keras.Model(\n",
        "    [decoder_inputs] + decoder_states_inputs, [decoder_outputs] + decoder_states\n",
        ")\n",
        "\n",
        "\n",
        "# Reverse-lookup token index to decode sequences back to\n",
        "# something readable.\n",
        "reverse_input_char_index = dict((i, char) for char, i in input_token_index.items())\n",
        "reverse_target_char_index = dict((i, char) for char, i in target_token_index.items())\n"
      ]
    },
    {
      "cell_type": "code",
      "execution_count": 24,
      "metadata": {
        "id": "p9YmX7drrM9U"
      },
      "outputs": [],
      "source": [
        "def decode_sequence(input_seq):\n",
        "    # Encode the input as state vectors.\n",
        "    states_value = encoder_model.predict(input_seq, verbose=0)\n",
        "\n",
        "    # Generate empty target sequence of length 1.\n",
        "    target_seq = np.zeros((1, 1, num_decoder_tokens))\n",
        "    # Populate the first character of target sequence with the start character.\n",
        "    target_seq[0, 0, target_token_index[\"\\t\"]] = 1.0\n",
        "\n",
        "    # Sampling loop for a batch of sequences\n",
        "    # (to simplify, here we assume a batch of size 1).\n",
        "    stop_condition = False\n",
        "    decoded_sentence = \"\"\n",
        "    while not stop_condition:\n",
        "        output_tokens, h, c = decoder_model.predict(\n",
        "            [target_seq] + states_value, verbose=0\n",
        "        )\n",
        "\n",
        "        # Sample a token\n",
        "        sampled_token_index = np.argmax(output_tokens[0, -1, :])\n",
        "        sampled_char = reverse_target_char_index[sampled_token_index]\n",
        "        decoded_sentence += sampled_char\n",
        "\n",
        "        # Exit condition: either hit max length\n",
        "        # or find stop character.\n",
        "        if sampled_char == \"\\n\" or len(decoded_sentence) > max_decoder_seq_length:\n",
        "            stop_condition = True\n",
        "\n",
        "        # Update the target sequence (of length 1).\n",
        "        target_seq = np.zeros((1, 1, num_decoder_tokens))\n",
        "        target_seq[0, 0, sampled_token_index] = 1.0\n",
        "\n",
        "        # Update states\n",
        "        states_value = [h, c]\n",
        "    return decoded_sentence\n",
        "\n",
        "\n"
      ]
    },
    {
      "cell_type": "code",
      "execution_count": 25,
      "metadata": {
        "colab": {
          "base_uri": "https://localhost:8080/"
        },
        "id": "XWff2zUWrM9U",
        "outputId": "7edd9565-ac6d-4e69-f0d9-e6994448b49d"
      },
      "outputs": [
        {
          "output_type": "stream",
          "name": "stdout",
          "text": [
            "\n",
            "------\n",
            "Input sentence: Those are good.\n",
            "Decoded sentence: Cl e  ai  ai\n",
            "Reference sentence: Ceux-ci sont bons.\n",
            "\n",
            "------\n",
            "Input sentence: I feel fine.\n",
            "Decoded sentence: Je se  ai  ai  ai\n",
            "Reference sentence: Je me sens bien.\n",
            "\n",
            "------\n",
            "Input sentence: I'm unemployed.\n",
            "Decoded sentence: Je se  ai  ai  ai\n",
            "Reference sentence: Je suis au chômage.\n",
            "\n",
            "------\n",
            "Input sentence: Hurry up.\n",
            "Decoded sentence: Nle  ai  ai\n",
            "Reference sentence: Magnez-vous !\n",
            "\n",
            "------\n",
            "Input sentence: Give it a try.\n",
            "Decoded sentence: Nle  ai  ai\n",
            "Reference sentence: Essaie.\n",
            "\n",
            "------\n",
            "Input sentence: Do it again!\n",
            "Decoded sentence: Cl e  ai  ai  ai\n",
            "Reference sentence: Faites-le de nouveau !\n",
            "\n",
            "------\n",
            "Input sentence: He stood up.\n",
            "Decoded sentence: Cl e  ai  ai\n",
            "Reference sentence: Il se mit debout.\n",
            "\n",
            "------\n",
            "Input sentence: Tom was silent.\n",
            "Decoded sentence: Cl e  ai  ai  ai\n",
            "Reference sentence: Tom gardait le silence.\n",
            "\n",
            "------\n",
            "Input sentence: I'm finished.\n",
            "Decoded sentence: Je se  ai  ai  ai\n",
            "Reference sentence: J'ai terminé.\n",
            "\n",
            "------\n",
            "Input sentence: Look at it.\n",
            "Decoded sentence: Nle  ai  ai\n",
            "Reference sentence: Regarde-le !\n",
            "\n",
            "------\n",
            "Input sentence: It's ice cream.\n",
            "Decoded sentence: Je se  ai  ai  ai\n",
            "Reference sentence: C'est de la crème glacée.\n",
            "\n",
            "------\n",
            "Input sentence: Is that weird?\n",
            "Decoded sentence: Je se  ai  ai  ai\n",
            "Reference sentence: Est-ce que c'est bizarre ?\n",
            "\n",
            "------\n",
            "Input sentence: You're dirty.\n",
            "Decoded sentence: Cl e  ai  ai\n",
            "Reference sentence: Vous êtes sales.\n",
            "\n",
            "------\n",
            "Input sentence: He tricked me.\n",
            "Decoded sentence: Cl e  ai  ai\n",
            "Reference sentence: Il m'a arnaqué.\n",
            "\n",
            "------\n",
            "Input sentence: Is Tom hungry?\n",
            "Decoded sentence: Je se  ai  ai  ai\n",
            "Reference sentence: Tom a-t-il faim ?\n",
            "\n",
            "------\n",
            "Input sentence: Be prepared.\n",
            "Decoded sentence: Ile e  ai  ai\n",
            "Reference sentence: Soyez préparées !\n",
            "\n",
            "------\n",
            "Input sentence: Is it safe?\n",
            "Decoded sentence: Je se  ai  ai  ai\n",
            "Reference sentence: Est-ce sans danger ?\n",
            "\n",
            "------\n",
            "Input sentence: I'm amused.\n",
            "Decoded sentence: Je se  ai  ai  ai\n",
            "Reference sentence: Je suis amusée.\n",
            "\n",
            "------\n",
            "Input sentence: Be nice.\n",
            "Decoded sentence: Cl e  ai  ai\n",
            "Reference sentence: Soyez gentils !\n",
            "\n",
            "------\n",
            "Input sentence: They're hot.\n",
            "Decoded sentence: Cl e  ai  ai\n",
            "Reference sentence: Ils sont sexy.\n"
          ]
        }
      ],
      "source": [
        "# You can now generate decoded sentences as such:\n",
        "\n",
        "for seq_index in range(20):\n",
        "    # Take one sequence (part of the training set)\n",
        "    # for trying out decoding.\n",
        "    input_seq = encoder_input_data[seq_index : seq_index + 1]\n",
        "    decoded_sentence = decode_sequence(input_seq)\n",
        "    print(\"\\n------\")\n",
        "    print(\"Input sentence:\", input_texts[seq_index])\n",
        "    print(\"Decoded sentence:\", decoded_sentence.strip())\n",
        "    print(\"Reference sentence:\", target_texts[seq_index].strip())\n",
        "\n"
      ]
    }
  ],
  "metadata": {
    "kernelspec": {
      "display_name": "base",
      "language": "python",
      "name": "python3"
    },
    "language_info": {
      "codemirror_mode": {
        "name": "ipython",
        "version": 3
      },
      "file_extension": ".py",
      "mimetype": "text/x-python",
      "name": "python",
      "nbconvert_exporter": "python",
      "pygments_lexer": "ipython3",
      "version": "3.11.7"
    },
    "colab": {
      "provenance": [],
      "include_colab_link": true
    }
  },
  "nbformat": 4,
  "nbformat_minor": 0
}